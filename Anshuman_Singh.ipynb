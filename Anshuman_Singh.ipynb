{
 "cells": [
  {
   "cell_type": "markdown",
   "id": "adf453fc-d0a9-48f2-94af-b588277dc385",
   "metadata": {},
   "source": [
    "# Lending Club Case Study\n",
    "---"
   ]
  },
  {
   "cell_type": "markdown",
   "id": "cef559e6-35f6-4cce-815b-2bd7203acb50",
   "metadata": {},
   "source": [
    "#### Problem Statement\n",
    "\n",
    "A consumer finance company which specialises in lending various types of loans to urban customers needs to **identify key driving factors leading to the loans getting charged off**.\n",
    "\n",
    "Based on these factors a decision has to be made about whether or not to approve the loan. There are 2 types of risks associated with bank's decision.\n",
    "\n",
    "* If the applicant is likely to repay the loan, then not approving the loan results in a loss of business to the company.\n",
    "* If the applicant is not likely to repay the loan, i.e. he/she is likely to default, then approving the loan may lead to a financial loss for the company."
   ]
  },
  {
   "cell_type": "markdown",
   "id": "8936316d-fc92-48bb-a076-3677b23b3fc2",
   "metadata": {},
   "source": [
    "#### Data Set Given\n",
    "\n",
    "Data about previous loan applicants have been given (including whether they defaulted or not) in a csv format along with data dictionary describing the columns.\n",
    "\n",
    "The data set also contains information about whether these applications defaulted or not."
   ]
  },
  {
   "cell_type": "markdown",
   "id": "8de93a8b-cbd6-4f76-94a6-00a6b550feaa",
   "metadata": {},
   "source": [
    "---"
   ]
  },
  {
   "cell_type": "markdown",
   "id": "e23645eb-bdb5-4976-9f31-8e215be3717e",
   "metadata": {},
   "source": [
    "#### Loading and Understanding Data"
   ]
  },
  {
   "cell_type": "code",
   "execution_count": 7,
   "id": "fbc10c86-92bd-46d5-b3e4-cc622f7ef44d",
   "metadata": {},
   "outputs": [],
   "source": [
    "# Importing numpy and pandas libraries\n",
    "\n",
    "import numpy as np\n",
    "import pandas as pd\n",
    "\n",
    "# Importing visualization libraries\n",
    "import seaborn as sns\n",
    "import matplotlib.pyplot as plt\n",
    "\n",
    "# ignoring warnings\n",
    "import warnings\n",
    "warnings.filterwarnings(\"ignore\")"
   ]
  },
  {
   "cell_type": "code",
   "execution_count": 9,
   "id": "2e6d3fe3-cb09-4fc2-a054-57f6216d14f3",
   "metadata": {},
   "outputs": [
    {
     "data": {
      "text/plain": [
       "(39717, 111)"
      ]
     },
     "execution_count": 9,
     "metadata": {},
     "output_type": "execute_result"
    }
   ],
   "source": [
    "# Loading data and checking shape\n",
    "loan_df = pd.read_csv(\"loan.csv\");\n",
    "loan_df.shape"
   ]
  },
  {
   "cell_type": "code",
   "execution_count": 12,
   "id": "f1d88242-a8e4-43ca-911a-064dab79d6cb",
   "metadata": {},
   "outputs": [
    {
     "data": {
      "text/html": [
       "<div>\n",
       "<style scoped>\n",
       "    .dataframe tbody tr th:only-of-type {\n",
       "        vertical-align: middle;\n",
       "    }\n",
       "\n",
       "    .dataframe tbody tr th {\n",
       "        vertical-align: top;\n",
       "    }\n",
       "\n",
       "    .dataframe thead th {\n",
       "        text-align: right;\n",
       "    }\n",
       "</style>\n",
       "<table border=\"1\" class=\"dataframe\">\n",
       "  <thead>\n",
       "    <tr style=\"text-align: right;\">\n",
       "      <th></th>\n",
       "      <th>id</th>\n",
       "      <th>member_id</th>\n",
       "      <th>loan_amnt</th>\n",
       "      <th>funded_amnt</th>\n",
       "      <th>funded_amnt_inv</th>\n",
       "      <th>term</th>\n",
       "      <th>int_rate</th>\n",
       "      <th>installment</th>\n",
       "      <th>grade</th>\n",
       "      <th>sub_grade</th>\n",
       "      <th>...</th>\n",
       "      <th>num_tl_90g_dpd_24m</th>\n",
       "      <th>num_tl_op_past_12m</th>\n",
       "      <th>pct_tl_nvr_dlq</th>\n",
       "      <th>percent_bc_gt_75</th>\n",
       "      <th>pub_rec_bankruptcies</th>\n",
       "      <th>tax_liens</th>\n",
       "      <th>tot_hi_cred_lim</th>\n",
       "      <th>total_bal_ex_mort</th>\n",
       "      <th>total_bc_limit</th>\n",
       "      <th>total_il_high_credit_limit</th>\n",
       "    </tr>\n",
       "  </thead>\n",
       "  <tbody>\n",
       "    <tr>\n",
       "      <th>0</th>\n",
       "      <td>1077501</td>\n",
       "      <td>1296599</td>\n",
       "      <td>5000</td>\n",
       "      <td>5000</td>\n",
       "      <td>4975.0</td>\n",
       "      <td>36 months</td>\n",
       "      <td>10.65%</td>\n",
       "      <td>162.87</td>\n",
       "      <td>B</td>\n",
       "      <td>B2</td>\n",
       "      <td>...</td>\n",
       "      <td>NaN</td>\n",
       "      <td>NaN</td>\n",
       "      <td>NaN</td>\n",
       "      <td>NaN</td>\n",
       "      <td>0.0</td>\n",
       "      <td>0.0</td>\n",
       "      <td>NaN</td>\n",
       "      <td>NaN</td>\n",
       "      <td>NaN</td>\n",
       "      <td>NaN</td>\n",
       "    </tr>\n",
       "    <tr>\n",
       "      <th>1</th>\n",
       "      <td>1077430</td>\n",
       "      <td>1314167</td>\n",
       "      <td>2500</td>\n",
       "      <td>2500</td>\n",
       "      <td>2500.0</td>\n",
       "      <td>60 months</td>\n",
       "      <td>15.27%</td>\n",
       "      <td>59.83</td>\n",
       "      <td>C</td>\n",
       "      <td>C4</td>\n",
       "      <td>...</td>\n",
       "      <td>NaN</td>\n",
       "      <td>NaN</td>\n",
       "      <td>NaN</td>\n",
       "      <td>NaN</td>\n",
       "      <td>0.0</td>\n",
       "      <td>0.0</td>\n",
       "      <td>NaN</td>\n",
       "      <td>NaN</td>\n",
       "      <td>NaN</td>\n",
       "      <td>NaN</td>\n",
       "    </tr>\n",
       "    <tr>\n",
       "      <th>2</th>\n",
       "      <td>1077175</td>\n",
       "      <td>1313524</td>\n",
       "      <td>2400</td>\n",
       "      <td>2400</td>\n",
       "      <td>2400.0</td>\n",
       "      <td>36 months</td>\n",
       "      <td>15.96%</td>\n",
       "      <td>84.33</td>\n",
       "      <td>C</td>\n",
       "      <td>C5</td>\n",
       "      <td>...</td>\n",
       "      <td>NaN</td>\n",
       "      <td>NaN</td>\n",
       "      <td>NaN</td>\n",
       "      <td>NaN</td>\n",
       "      <td>0.0</td>\n",
       "      <td>0.0</td>\n",
       "      <td>NaN</td>\n",
       "      <td>NaN</td>\n",
       "      <td>NaN</td>\n",
       "      <td>NaN</td>\n",
       "    </tr>\n",
       "    <tr>\n",
       "      <th>3</th>\n",
       "      <td>1076863</td>\n",
       "      <td>1277178</td>\n",
       "      <td>10000</td>\n",
       "      <td>10000</td>\n",
       "      <td>10000.0</td>\n",
       "      <td>36 months</td>\n",
       "      <td>13.49%</td>\n",
       "      <td>339.31</td>\n",
       "      <td>C</td>\n",
       "      <td>C1</td>\n",
       "      <td>...</td>\n",
       "      <td>NaN</td>\n",
       "      <td>NaN</td>\n",
       "      <td>NaN</td>\n",
       "      <td>NaN</td>\n",
       "      <td>0.0</td>\n",
       "      <td>0.0</td>\n",
       "      <td>NaN</td>\n",
       "      <td>NaN</td>\n",
       "      <td>NaN</td>\n",
       "      <td>NaN</td>\n",
       "    </tr>\n",
       "    <tr>\n",
       "      <th>4</th>\n",
       "      <td>1075358</td>\n",
       "      <td>1311748</td>\n",
       "      <td>3000</td>\n",
       "      <td>3000</td>\n",
       "      <td>3000.0</td>\n",
       "      <td>60 months</td>\n",
       "      <td>12.69%</td>\n",
       "      <td>67.79</td>\n",
       "      <td>B</td>\n",
       "      <td>B5</td>\n",
       "      <td>...</td>\n",
       "      <td>NaN</td>\n",
       "      <td>NaN</td>\n",
       "      <td>NaN</td>\n",
       "      <td>NaN</td>\n",
       "      <td>0.0</td>\n",
       "      <td>0.0</td>\n",
       "      <td>NaN</td>\n",
       "      <td>NaN</td>\n",
       "      <td>NaN</td>\n",
       "      <td>NaN</td>\n",
       "    </tr>\n",
       "  </tbody>\n",
       "</table>\n",
       "<p>5 rows × 111 columns</p>\n",
       "</div>"
      ],
      "text/plain": [
       "        id  member_id  loan_amnt  funded_amnt  funded_amnt_inv        term  \\\n",
       "0  1077501    1296599       5000         5000           4975.0   36 months   \n",
       "1  1077430    1314167       2500         2500           2500.0   60 months   \n",
       "2  1077175    1313524       2400         2400           2400.0   36 months   \n",
       "3  1076863    1277178      10000        10000          10000.0   36 months   \n",
       "4  1075358    1311748       3000         3000           3000.0   60 months   \n",
       "\n",
       "  int_rate  installment grade sub_grade  ... num_tl_90g_dpd_24m  \\\n",
       "0   10.65%       162.87     B        B2  ...                NaN   \n",
       "1   15.27%        59.83     C        C4  ...                NaN   \n",
       "2   15.96%        84.33     C        C5  ...                NaN   \n",
       "3   13.49%       339.31     C        C1  ...                NaN   \n",
       "4   12.69%        67.79     B        B5  ...                NaN   \n",
       "\n",
       "  num_tl_op_past_12m pct_tl_nvr_dlq  percent_bc_gt_75 pub_rec_bankruptcies  \\\n",
       "0                NaN            NaN               NaN                  0.0   \n",
       "1                NaN            NaN               NaN                  0.0   \n",
       "2                NaN            NaN               NaN                  0.0   \n",
       "3                NaN            NaN               NaN                  0.0   \n",
       "4                NaN            NaN               NaN                  0.0   \n",
       "\n",
       "  tax_liens tot_hi_cred_lim total_bal_ex_mort total_bc_limit  \\\n",
       "0       0.0             NaN               NaN            NaN   \n",
       "1       0.0             NaN               NaN            NaN   \n",
       "2       0.0             NaN               NaN            NaN   \n",
       "3       0.0             NaN               NaN            NaN   \n",
       "4       0.0             NaN               NaN            NaN   \n",
       "\n",
       "  total_il_high_credit_limit  \n",
       "0                        NaN  \n",
       "1                        NaN  \n",
       "2                        NaN  \n",
       "3                        NaN  \n",
       "4                        NaN  \n",
       "\n",
       "[5 rows x 111 columns]"
      ]
     },
     "execution_count": 12,
     "metadata": {},
     "output_type": "execute_result"
    }
   ],
   "source": [
    "# checking a few records from the data set\n",
    "loan_df.head()"
   ]
  },
  {
   "cell_type": "markdown",
   "id": "ec6af5b6-e924-4be0-8ab6-1d7de6d86ad2",
   "metadata": {},
   "source": [
    "---"
   ]
  },
  {
   "cell_type": "markdown",
   "id": "607922fc-8c94-43b6-bcb5-12c2c1889b67",
   "metadata": {},
   "source": [
    "#### Data Analysis"
   ]
  },
  {
   "cell_type": "markdown",
   "id": "00d63745-efd8-44cb-8630-8e26b7a96889",
   "metadata": {},
   "source": [
    "##### loan_status - _categorial variable_"
   ]
  },
  {
   "cell_type": "code",
   "execution_count": 14,
   "id": "930cc58c-3733-4085-b52b-628d99651fbc",
   "metadata": {},
   "outputs": [
    {
     "data": {
      "text/plain": [
       "loan_status\n",
       "Fully Paid     32950\n",
       "Charged Off     5627\n",
       "Current         1140\n",
       "Name: count, dtype: int64"
      ]
     },
     "execution_count": 14,
     "metadata": {},
     "output_type": "execute_result"
    }
   ],
   "source": [
    "# Univariate Analysis - checking possible values of loan_status\n",
    "loan_df['loan_status'].value_counts()"
   ]
  },
  {
   "cell_type": "code",
   "execution_count": 247,
   "id": "74b48153-6dfa-4e77-90ca-6e5c62cb345a",
   "metadata": {},
   "outputs": [
    {
     "data": {
      "image/png": "[encoded data removed]",
      "text/plain": [
       "<Figure size 640x480 with 1 Axes>"
      ]
     },
     "metadata": {},
     "output_type": "display_data"
    }
   ],
   "source": [
    "# checking the histogram to see possible values and corresponding counts\n",
    "plt.hist(loan_df['loan_status'])\n",
    "plt.title('Loan Status Distribution')\n",
    "plt.xlabel('Loan Statuses')\n",
    "plt.ylabel('Number of Loans')\n",
    "plt.show()"
   ]
  },
  {
   "cell_type": "code",
   "execution_count": 18,
   "id": "96bbe2ef-42e4-4be5-bec1-814d8e44343f",
   "metadata": {},
   "outputs": [
    {
     "data": {
      "text/plain": [
       "dtype('O')"
      ]
     },
     "execution_count": 18,
     "metadata": {},
     "output_type": "execute_result"
    }
   ],
   "source": [
    "# checking loan_status data type\n",
    "loan_df['loan_status'].dtype"
   ]
  },
  {
   "cell_type": "code",
   "execution_count": 24,
   "id": "deaa7a49-809f-45a3-b2df-88a452ca86bb",
   "metadata": {},
   "outputs": [
    {
     "data": {
      "text/plain": [
       "0"
      ]
     },
     "execution_count": 24,
     "metadata": {},
     "output_type": "execute_result"
    }
   ],
   "source": [
    "# checking if there are any null values in loan_status column\n",
    "loan_df['loan_status'].isnull().sum()"
   ]
  },
  {
   "cell_type": "markdown",
   "id": "cad6370b-c1c8-4074-b0ea-7449ec74f084",
   "metadata": {},
   "source": [
    "---"
   ]
  },
  {
   "cell_type": "markdown",
   "id": "04e995d6-830c-43e6-aae2-9a15f860c896",
   "metadata": {},
   "source": [
    "##### issue_d - _categorial varaiable_"
   ]
  },
  {
   "cell_type": "code",
   "execution_count": 26,
   "id": "e000c856-0370-46b0-9535-69af03f75647",
   "metadata": {},
   "outputs": [
    {
     "data": {
      "text/plain": [
       "0"
      ]
     },
     "execution_count": 26,
     "metadata": {},
     "output_type": "execute_result"
    }
   ],
   "source": [
    "# checking the missing values, data type and value counts\n",
    "loan_df.issue_d.isnull().sum()"
   ]
  },
  {
   "cell_type": "code",
   "execution_count": 28,
   "id": "82acc444-e99b-4212-9d04-b440889714fc",
   "metadata": {},
   "outputs": [
    {
     "data": {
      "text/plain": [
       "dtype('O')"
      ]
     },
     "execution_count": 28,
     "metadata": {},
     "output_type": "execute_result"
    }
   ],
   "source": [
    "loan_df.issue_d.dtype"
   ]
  },
  {
   "cell_type": "code",
   "execution_count": 115,
   "id": "f4825c4e-4353-48e6-86fb-d7409fc14eeb",
   "metadata": {},
   "outputs": [
    {
     "data": {
      "text/plain": [
       "0    Dec-11\n",
       "1    Dec-11\n",
       "2    Dec-11\n",
       "3    Dec-11\n",
       "4    Dec-11\n",
       "Name: issue_d, dtype: object"
      ]
     },
     "execution_count": 115,
     "metadata": {},
     "output_type": "execute_result"
    }
   ],
   "source": [
    "loan_df.issue_d.head(5) # checking sample data to see the date format"
   ]
  },
  {
   "cell_type": "code",
   "execution_count": 113,
   "id": "c1e82e62-21bd-426b-b9ed-8fd232af34a8",
   "metadata": {},
   "outputs": [
    {
     "data": {
      "text/plain": [
       "Timestamp('2007-06-01 00:00:00')"
      ]
     },
     "execution_count": 113,
     "metadata": {},
     "output_type": "execute_result"
    }
   ],
   "source": [
    "# formatting issue_d column values to convert them into datetime\n",
    "loan_df['issue_d_formatted'] = pd.to_datetime(loan_df['issue_d'], format='%b-%y')\n",
    "\n",
    "# checking min and max values\n",
    "loan_df['issue_d_formatted'].min()"
   ]
  },
  {
   "cell_type": "code",
   "execution_count": 49,
   "id": "cb46e839-0579-4c04-8f2c-5444c57a3851",
   "metadata": {},
   "outputs": [
    {
     "data": {
      "text/plain": [
       "Timestamp('2011-12-01 00:00:00')"
      ]
     },
     "execution_count": 49,
     "metadata": {},
     "output_type": "execute_result"
    }
   ],
   "source": [
    "loan_df['issue_d_formatted'].max()"
   ]
  },
  {
   "cell_type": "code",
   "execution_count": 111,
   "id": "5e2084a4-974a-4353-8ce1-4f5c6b9401bb",
   "metadata": {},
   "outputs": [
    {
     "data": {
      "text/plain": [
       "issue_year\n",
       "2011    21656\n",
       "2010    11532\n",
       "2009     4716\n",
       "2008     1562\n",
       "2007      251\n",
       "Name: count, dtype: int64"
      ]
     },
     "execution_count": 111,
     "metadata": {},
     "output_type": "execute_result"
    }
   ],
   "source": [
    "# extracing month from issue_d column\n",
    "loan_df['issue_year'] = loan_df['issue_d_formatted'].dt.year\n",
    "loan_df['issue_year'].value_counts()"
   ]
  },
  {
   "cell_type": "code",
   "execution_count": 109,
   "id": "395d4ec5-b855-4adf-80fe-463773574dcf",
   "metadata": {},
   "outputs": [
    {
     "data": {
      "image/png": "[encoded data removed]",
      "text/plain": [
       "<Figure size 640x480 with 1 Axes>"
      ]
     },
     "metadata": {},
     "output_type": "display_data"
    }
   ],
   "source": [
    "plt.hist(loan_df['issue_year'])\n",
    "plt.title('Loan Issuance Distribution')\n",
    "plt.xlabel('Issuance Year')\n",
    "plt.ylabel('Number of Loans')\n",
    "plt.show()"
   ]
  },
  {
   "cell_type": "markdown",
   "id": "1d3f70db-6bac-4fb7-86f3-c7bc45fd2a55",
   "metadata": {},
   "source": [
    "---"
   ]
  },
  {
   "cell_type": "markdown",
   "id": "7a6b3813-a1bf-4559-a265-4c18f29837b5",
   "metadata": {},
   "source": [
    "##### dti - debt to income ration - _quantitaive variable_"
   ]
  },
  {
   "cell_type": "code",
   "execution_count": 117,
   "id": "6a1dd65d-e299-47c7-91db-9e94eef6be51",
   "metadata": {},
   "outputs": [
    {
     "data": {
      "text/plain": [
       "0"
      ]
     },
     "execution_count": 117,
     "metadata": {},
     "output_type": "execute_result"
    }
   ],
   "source": [
    "# Checking if dti (debt to income) column has any null values\n",
    "loan_df['dti'].isnull().sum()"
   ]
  },
  {
   "cell_type": "code",
   "execution_count": 119,
   "id": "e1c70d5a-d0d9-4533-b218-0478bffd50f5",
   "metadata": {},
   "outputs": [
    {
     "data": {
      "image/png": "[encoded data removed]",
      "text/plain": [
       "<Figure size 640x480 with 1 Axes>"
      ]
     },
     "metadata": {},
     "output_type": "display_data"
    }
   ],
   "source": [
    "# checking histogram for dti variable\n",
    "plt.hist(loan_df['dti'])\n",
    "plt.show()"
   ]
  },
  {
   "cell_type": "code",
   "execution_count": 121,
   "id": "f1875e60-0dc0-4f84-be14-cebd3752cda4",
   "metadata": {},
   "outputs": [
    {
     "data": {
      "text/plain": [
       "dtype('float64')"
      ]
     },
     "execution_count": 121,
     "metadata": {},
     "output_type": "execute_result"
    }
   ],
   "source": [
    "# Checking dti datatype\n",
    "loan_df['dti'].dtype"
   ]
  },
  {
   "cell_type": "code",
   "execution_count": 123,
   "id": "9ca23469-f99f-4449-a05d-7080d8a42a0d",
   "metadata": {},
   "outputs": [
    {
     "data": {
      "text/plain": [
       "dti\n",
       "0.00     183\n",
       "12.00     51\n",
       "18.00     45\n",
       "19.20     40\n",
       "13.20     39\n",
       "        ... \n",
       "29.13      1\n",
       "25.31      1\n",
       "29.76      1\n",
       "28.42      1\n",
       "25.43      1\n",
       "Name: count, Length: 2868, dtype: int64"
      ]
     },
     "execution_count": 123,
     "metadata": {},
     "output_type": "execute_result"
    }
   ],
   "source": [
    "# Checking dti column values\n",
    "loan_df['dti'].value_counts()"
   ]
  },
  {
   "cell_type": "code",
   "execution_count": 125,
   "id": "887433bd-be13-415a-8235-b219163a65b6",
   "metadata": {},
   "outputs": [
    {
     "data": {
      "image/png": "[encoded data removed]",
      "text/plain": [
       "<Figure size 640x480 with 1 Axes>"
      ]
     },
     "metadata": {},
     "output_type": "display_data"
    }
   ],
   "source": [
    "# checking dti values to see if there are any outliers\n",
    "plt.boxplot(loan_df['dti'])\n",
    "plt.show()"
   ]
  },
  {
   "cell_type": "code",
   "execution_count": 138,
   "id": "22a869c0-e8a2-4238-ab05-c3c47bf0f628",
   "metadata": {},
   "outputs": [
    {
     "data": {
      "image/png": "[encoded data removed]",
      "text/plain": [
       "<Figure size 640x480 with 1 Axes>"
      ]
     },
     "metadata": {},
     "output_type": "display_data"
    }
   ],
   "source": [
    "# creating a new data frame for fully paid and charged off loans\n",
    "loan_fp_choff_df = loan_df[loan_df.loan_status.isin(['Fully Paid','Charged Off'])]\n",
    "\n",
    "# checking the correlation between loan_status and dti column by drawing a box plot\n",
    "sns.boxplot(x=loan_fp_choff_df['loan_status'],y=loan_fp_choff_df['dti'])\n",
    "plt.title('dti boxplots for Fully Paid and Charged Off Loans')\n",
    "plt.xlabel('Loan Status')\n",
    "plt.ylabel('dti')\n",
    "plt.show()"
   ]
  },
  {
   "cell_type": "code",
   "execution_count": 140,
   "id": "af2079e2-4a23-4970-a0d6-d41a77884481",
   "metadata": {},
   "outputs": [
    {
     "data": {
      "text/html": [
       "<div>\n",
       "<style scoped>\n",
       "    .dataframe tbody tr th:only-of-type {\n",
       "        vertical-align: middle;\n",
       "    }\n",
       "\n",
       "    .dataframe tbody tr th {\n",
       "        vertical-align: top;\n",
       "    }\n",
       "\n",
       "    .dataframe thead th {\n",
       "        text-align: right;\n",
       "    }\n",
       "</style>\n",
       "<table border=\"1\" class=\"dataframe\">\n",
       "  <thead>\n",
       "    <tr style=\"text-align: right;\">\n",
       "      <th></th>\n",
       "      <th>count</th>\n",
       "      <th>mean</th>\n",
       "      <th>std</th>\n",
       "      <th>min</th>\n",
       "      <th>25%</th>\n",
       "      <th>50%</th>\n",
       "      <th>75%</th>\n",
       "      <th>max</th>\n",
       "    </tr>\n",
       "    <tr>\n",
       "      <th>loan_status</th>\n",
       "      <th></th>\n",
       "      <th></th>\n",
       "      <th></th>\n",
       "      <th></th>\n",
       "      <th></th>\n",
       "      <th></th>\n",
       "      <th></th>\n",
       "      <th></th>\n",
       "    </tr>\n",
       "  </thead>\n",
       "  <tbody>\n",
       "    <tr>\n",
       "      <th>Charged Off</th>\n",
       "      <td>5627.0</td>\n",
       "      <td>14.000624</td>\n",
       "      <td>6.585577</td>\n",
       "      <td>0.0</td>\n",
       "      <td>9.05</td>\n",
       "      <td>14.29</td>\n",
       "      <td>19.29</td>\n",
       "      <td>29.85</td>\n",
       "    </tr>\n",
       "    <tr>\n",
       "      <th>Fully Paid</th>\n",
       "      <td>32950.0</td>\n",
       "      <td>13.148421</td>\n",
       "      <td>6.680041</td>\n",
       "      <td>0.0</td>\n",
       "      <td>7.98</td>\n",
       "      <td>13.20</td>\n",
       "      <td>18.39</td>\n",
       "      <td>29.99</td>\n",
       "    </tr>\n",
       "  </tbody>\n",
       "</table>\n",
       "</div>"
      ],
      "text/plain": [
       "               count       mean       std  min   25%    50%    75%    max\n",
       "loan_status                                                              \n",
       "Charged Off   5627.0  14.000624  6.585577  0.0  9.05  14.29  19.29  29.85\n",
       "Fully Paid   32950.0  13.148421  6.680041  0.0  7.98  13.20  18.39  29.99"
      ]
     },
     "execution_count": 140,
     "metadata": {},
     "output_type": "execute_result"
    }
   ],
   "source": [
    "# checking the aggregagte values of dti for different loan_statuses\n",
    "loan_df.groupby(by=loan_fp_choff_df.loan_status).dti.describe()"
   ]
  },
  {
   "cell_type": "markdown",
   "id": "5d6a39b4-f571-4325-9af9-632f43f84bdf",
   "metadata": {},
   "source": [
    "---"
   ]
  },
  {
   "cell_type": "markdown",
   "id": "192d08d7-dee9-41e9-b4fb-e30798c478f4",
   "metadata": {},
   "source": [
    "##### int_rate (interest rate) - _quantitative variable_"
   ]
  },
  {
   "cell_type": "code",
   "execution_count": 142,
   "id": "cb78895e-9da5-4b40-884d-5d3b44990ba0",
   "metadata": {},
   "outputs": [
    {
     "data": {
      "text/plain": [
       "0"
      ]
     },
     "execution_count": 142,
     "metadata": {},
     "output_type": "execute_result"
    }
   ],
   "source": [
    "# checking and cleaning int_rate values\n",
    "loan_fp_choff_df['int_rate'].isnull().sum()"
   ]
  },
  {
   "cell_type": "code",
   "execution_count": 144,
   "id": "16f9eb1a-a256-4fce-a281-20125ce891f5",
   "metadata": {},
   "outputs": [
    {
     "data": {
      "text/plain": [
       "dtype('O')"
      ]
     },
     "execution_count": 144,
     "metadata": {},
     "output_type": "execute_result"
    }
   ],
   "source": [
    "# checking data type\n",
    "loan_fp_choff_df['int_rate'].dtype"
   ]
  },
  {
   "cell_type": "code",
   "execution_count": 146,
   "id": "5c7b2381-9503-4de5-961c-09cbb716aab2",
   "metadata": {},
   "outputs": [
    {
     "data": {
      "text/plain": [
       "int_rate\n",
       "10.99%    913\n",
       "11.49%    790\n",
       "7.51%     787\n",
       "13.49%    749\n",
       "7.88%     725\n",
       "         ... \n",
       "16.96%      1\n",
       "18.36%      1\n",
       "16.15%      1\n",
       "16.01%      1\n",
       "16.20%      1\n",
       "Name: count, Length: 370, dtype: int64"
      ]
     },
     "execution_count": 146,
     "metadata": {},
     "output_type": "execute_result"
    }
   ],
   "source": [
    "# checking possible values\n",
    "loan_fp_choff_df['int_rate'].value_counts()"
   ]
  },
  {
   "cell_type": "code",
   "execution_count": 148,
   "id": "b2e5b109-cbcb-4afe-973d-b9a009386d44",
   "metadata": {},
   "outputs": [],
   "source": [
    "# Formatting column values and changing data type\n",
    "loan_fp_choff_df['int_rate'] = loan_df['int_rate'].apply(lambda x: x.replace('%',''))"
   ]
  },
  {
   "cell_type": "code",
   "execution_count": 150,
   "id": "726e8bd8-00c3-456c-8a9a-6f2afd9460b2",
   "metadata": {},
   "outputs": [
    {
     "data": {
      "text/plain": [
       "count    38577.000000\n",
       "mean        11.932219\n",
       "std          3.691327\n",
       "min          5.420000\n",
       "25%          8.940000\n",
       "50%         11.710000\n",
       "75%         14.380000\n",
       "max         24.400000\n",
       "Name: int_rate, dtype: float64"
      ]
     },
     "execution_count": 150,
     "metadata": {},
     "output_type": "execute_result"
    }
   ],
   "source": [
    "loan_fp_choff_df['int_rate'] = loan_fp_choff_df['int_rate'].astype('float64')\n",
    "loan_fp_choff_df['int_rate'].describe()"
   ]
  },
  {
   "cell_type": "code",
   "execution_count": 152,
   "id": "7213153e-f49f-41ab-bb08-22aff6d258a0",
   "metadata": {},
   "outputs": [
    {
     "data": {
      "image/png": "[encoded data removed]",
      "text/plain": [
       "<Figure size 640x480 with 1 Axes>"
      ]
     },
     "metadata": {},
     "output_type": "display_data"
    }
   ],
   "source": [
    "# checking the boxplot to see if there are any outliers\n",
    "plt.boxplot(loan_fp_choff_df['int_rate'])\n",
    "plt.show()"
   ]
  },
  {
   "cell_type": "code",
   "execution_count": 156,
   "id": "f38f92df-7261-453b-b969-b326a9ef25b1",
   "metadata": {},
   "outputs": [
    {
     "data": {
      "image/png": "[encoded data removed]",
      "text/plain": [
       "<Figure size 640x480 with 1 Axes>"
      ]
     },
     "metadata": {},
     "output_type": "display_data"
    }
   ],
   "source": [
    "# removing outliers for interest rate column\n",
    "loan_fp_choff_df = loan_fp_choff_df[loan_fp_choff_df['int_rate'] <= 22]\n",
    "plt.boxplot(loan_fp_choff_df['int_rate'])\n",
    "plt.show()"
   ]
  },
  {
   "cell_type": "code",
   "execution_count": 162,
   "id": "5353dbd7-9b68-41f4-9930-6a2529c8ac85",
   "metadata": {},
   "outputs": [
    {
     "data": {
      "image/png": "[encoded data removed]",
      "text/plain": [
       "<Figure size 640x480 with 1 Axes>"
      ]
     },
     "metadata": {},
     "output_type": "display_data"
    }
   ],
   "source": [
    "# checking correlation between int_rate and loan_statuses by drawing a boxplots for different values of loan statuses\n",
    "sns.boxplot(x=loan_fp_choff_df['loan_status'],y=loan_fp_choff_df['int_rate'])\n",
    "plt.title('Interest Rate boxplots for Fully Paid and Charged Off Loans')\n",
    "plt.xlabel('Loan Status')\n",
    "plt.ylabel('Interest Rate')\n",
    "plt.show()"
   ]
  },
  {
   "cell_type": "code",
   "execution_count": 160,
   "id": "f4adb2fa-d890-4ee9-aaf9-4f09d0748d34",
   "metadata": {},
   "outputs": [
    {
     "data": {
      "text/html": [
       "<div>\n",
       "<style scoped>\n",
       "    .dataframe tbody tr th:only-of-type {\n",
       "        vertical-align: middle;\n",
       "    }\n",
       "\n",
       "    .dataframe tbody tr th {\n",
       "        vertical-align: top;\n",
       "    }\n",
       "\n",
       "    .dataframe thead th {\n",
       "        text-align: right;\n",
       "    }\n",
       "</style>\n",
       "<table border=\"1\" class=\"dataframe\">\n",
       "  <thead>\n",
       "    <tr style=\"text-align: right;\">\n",
       "      <th></th>\n",
       "      <th>count</th>\n",
       "      <th>mean</th>\n",
       "      <th>std</th>\n",
       "      <th>min</th>\n",
       "      <th>25%</th>\n",
       "      <th>50%</th>\n",
       "      <th>75%</th>\n",
       "      <th>max</th>\n",
       "    </tr>\n",
       "    <tr>\n",
       "      <th>loan_status</th>\n",
       "      <th></th>\n",
       "      <th></th>\n",
       "      <th></th>\n",
       "      <th></th>\n",
       "      <th></th>\n",
       "      <th></th>\n",
       "      <th></th>\n",
       "      <th></th>\n",
       "    </tr>\n",
       "  </thead>\n",
       "  <tbody>\n",
       "    <tr>\n",
       "      <th>Charged Off</th>\n",
       "      <td>5556.0</td>\n",
       "      <td>13.708015</td>\n",
       "      <td>3.538309</td>\n",
       "      <td>5.42</td>\n",
       "      <td>11.26</td>\n",
       "      <td>13.49</td>\n",
       "      <td>16.32</td>\n",
       "      <td>21.82</td>\n",
       "    </tr>\n",
       "    <tr>\n",
       "      <th>Fully Paid</th>\n",
       "      <td>32864.0</td>\n",
       "      <td>11.580829</td>\n",
       "      <td>3.559760</td>\n",
       "      <td>5.42</td>\n",
       "      <td>8.49</td>\n",
       "      <td>11.49</td>\n",
       "      <td>13.98</td>\n",
       "      <td>21.82</td>\n",
       "    </tr>\n",
       "  </tbody>\n",
       "</table>\n",
       "</div>"
      ],
      "text/plain": [
       "               count       mean       std   min    25%    50%    75%    max\n",
       "loan_status                                                                \n",
       "Charged Off   5556.0  13.708015  3.538309  5.42  11.26  13.49  16.32  21.82\n",
       "Fully Paid   32864.0  11.580829  3.559760  5.42   8.49  11.49  13.98  21.82"
      ]
     },
     "execution_count": 160,
     "metadata": {},
     "output_type": "execute_result"
    }
   ],
   "source": [
    "# checking the aggregagte values of int_rate for different loan_statuses\n",
    "loan_fp_choff_df.groupby(by=loan_fp_choff_df.loan_status).int_rate.describe()"
   ]
  },
  {
   "cell_type": "markdown",
   "id": "bd724f63-c781-4d3f-bebf-ea7470c4edbb",
   "metadata": {},
   "source": [
    "---"
   ]
  },
  {
   "cell_type": "markdown",
   "id": "0c002304-2759-4b8f-8785-d186df1dfe39",
   "metadata": {},
   "source": [
    "##### term - _categorical variable_"
   ]
  },
  {
   "cell_type": "code",
   "execution_count": 164,
   "id": "7b12eed4-c267-40e1-843c-ae5d4e341e9a",
   "metadata": {},
   "outputs": [
    {
     "data": {
      "text/plain": [
       "0"
      ]
     },
     "execution_count": 164,
     "metadata": {},
     "output_type": "execute_result"
    }
   ],
   "source": [
    "# checking missing values and possible values of term\n",
    "loan_fp_choff_df['term'].isnull().sum()"
   ]
  },
  {
   "cell_type": "code",
   "execution_count": 166,
   "id": "17eec57c-1a65-4ddb-a4a0-e21115e64ac0",
   "metadata": {},
   "outputs": [
    {
     "data": {
      "text/plain": [
       "term\n",
       " 36 months    29089\n",
       " 60 months     9331\n",
       "Name: count, dtype: int64"
      ]
     },
     "execution_count": 166,
     "metadata": {},
     "output_type": "execute_result"
    }
   ],
   "source": [
    "loan_fp_choff_df['term'].value_counts()"
   ]
  },
  {
   "cell_type": "code",
   "execution_count": 170,
   "id": "377aa735-318f-4379-b218-9c000449848f",
   "metadata": {},
   "outputs": [
    {
     "data": {
      "image/png": "[encoded data removed]",
      "text/plain": [
       "<Figure size 640x480 with 1 Axes>"
      ]
     },
     "metadata": {},
     "output_type": "display_data"
    }
   ],
   "source": [
    "# checking histogram for term variable\n",
    "plt.hist(loan_fp_choff_df['term'])\n",
    "plt.show()"
   ]
  },
  {
   "cell_type": "code",
   "execution_count": 200,
   "id": "787829fc-8917-4e27-ae7e-d8f98f02ed99",
   "metadata": {},
   "outputs": [
    {
     "data": {
      "text/plain": [
       "loan_status  term      \n",
       "Charged Off   36 months     3225\n",
       "              60 months     2331\n",
       "Fully Paid    36 months    25864\n",
       "              60 months     7000\n",
       "Name: count, dtype: int64"
      ]
     },
     "execution_count": 200,
     "metadata": {},
     "output_type": "execute_result"
    }
   ],
   "source": [
    "# checking correlation between loan term and loan getting charged-off\n",
    "loan_fp_choff_df.groupby(by='loan_status').term.value_counts()"
   ]
  },
  {
   "cell_type": "code",
   "execution_count": 202,
   "id": "72b86294-f475-4dbe-894e-d173c9d1e740",
   "metadata": {},
   "outputs": [
    {
     "data": {
      "image/png": "[encoded data removed]",
      "text/plain": [
       "<Figure size 640x480 with 1 Axes>"
      ]
     },
     "metadata": {},
     "output_type": "display_data"
    }
   ],
   "source": [
    "loan_fp_choff_df.groupby(by='loan_status').term.value_counts().plot.bar()\n",
    "plt.title('Loan Term vs Status')\n",
    "plt.xlabel('Loan Term Grouped By Status')\n",
    "plt.ylabel('Number of Loans')\n",
    "plt.show()"
   ]
  },
  {
   "cell_type": "markdown",
   "id": "8ad59822-bedb-4a5a-9f0d-e6a5a6436cae",
   "metadata": {},
   "source": [
    "---"
   ]
  },
  {
   "cell_type": "markdown",
   "id": "865d8e06-8ca2-43d8-8952-971163053965",
   "metadata": {},
   "source": [
    "##### delinq_2yrs - _quantitative variable_"
   ]
  },
  {
   "cell_type": "code",
   "execution_count": 208,
   "id": "18944328-526b-4c4d-ac8c-507bc210cf1a",
   "metadata": {},
   "outputs": [
    {
     "data": {
      "text/plain": [
       "0"
      ]
     },
     "execution_count": 208,
     "metadata": {},
     "output_type": "execute_result"
    }
   ],
   "source": [
    "# checking missing values, data type and possible values\n",
    "loan_fp_choff_df['delinq_2yrs'].isnull().sum()"
   ]
  },
  {
   "cell_type": "code",
   "execution_count": 210,
   "id": "8b1d692f-a90b-408c-a3bb-ea20ce30a075",
   "metadata": {},
   "outputs": [
    {
     "data": {
      "text/plain": [
       "dtype('int64')"
      ]
     },
     "execution_count": 210,
     "metadata": {},
     "output_type": "execute_result"
    }
   ],
   "source": [
    "loan_fp_choff_df['delinq_2yrs'].dtype"
   ]
  },
  {
   "cell_type": "code",
   "execution_count": 212,
   "id": "6f68f619-f69d-4d83-815c-50889ca4630d",
   "metadata": {},
   "outputs": [
    {
     "data": {
      "text/plain": [
       "delinq_2yrs\n",
       "0     34267\n",
       "1      3185\n",
       "2       663\n",
       "3       208\n",
       "4        58\n",
       "5        21\n",
       "6        10\n",
       "7         4\n",
       "8         2\n",
       "9         1\n",
       "11        1\n",
       "Name: count, dtype: int64"
      ]
     },
     "execution_count": 212,
     "metadata": {},
     "output_type": "execute_result"
    }
   ],
   "source": [
    "loan_fp_choff_df['delinq_2yrs'].value_counts()"
   ]
  },
  {
   "cell_type": "code",
   "execution_count": 250,
   "id": "ddc9502c-a873-4de9-87bf-e830af86453b",
   "metadata": {},
   "outputs": [
    {
     "data": {
      "image/png": "[encoded data removed]",
      "text/plain": [
       "<Figure size 640x480 with 1 Axes>"
      ]
     },
     "metadata": {},
     "output_type": "display_data"
    }
   ],
   "source": [
    "# chekcing correlation between delinq_2yrs and loan getting charged off\n",
    "loan_fp_choff_df.groupby(by='loan_status').delinq_2yrs.mean().plot.bar()\n",
    "plt.title('Delinquencies vs Loan Status')\n",
    "plt.xlabel('Loan Status')\n",
    "plt.ylabel('Mean of delinq_2yrs')\n",
    "plt.show()"
   ]
  },
  {
   "cell_type": "code",
   "execution_count": 216,
   "id": "908982c9-634b-4b40-b864-606fdfae736b",
   "metadata": {},
   "outputs": [
    {
     "data": {
      "text/html": [
       "<div>\n",
       "<style scoped>\n",
       "    .dataframe tbody tr th:only-of-type {\n",
       "        vertical-align: middle;\n",
       "    }\n",
       "\n",
       "    .dataframe tbody tr th {\n",
       "        vertical-align: top;\n",
       "    }\n",
       "\n",
       "    .dataframe thead th {\n",
       "        text-align: right;\n",
       "    }\n",
       "</style>\n",
       "<table border=\"1\" class=\"dataframe\">\n",
       "  <thead>\n",
       "    <tr style=\"text-align: right;\">\n",
       "      <th></th>\n",
       "      <th>count</th>\n",
       "      <th>mean</th>\n",
       "      <th>std</th>\n",
       "      <th>min</th>\n",
       "      <th>25%</th>\n",
       "      <th>50%</th>\n",
       "      <th>75%</th>\n",
       "      <th>max</th>\n",
       "    </tr>\n",
       "    <tr>\n",
       "      <th>loan_status</th>\n",
       "      <th></th>\n",
       "      <th></th>\n",
       "      <th></th>\n",
       "      <th></th>\n",
       "      <th></th>\n",
       "      <th></th>\n",
       "      <th></th>\n",
       "      <th></th>\n",
       "    </tr>\n",
       "  </thead>\n",
       "  <tbody>\n",
       "    <tr>\n",
       "      <th>Charged Off</th>\n",
       "      <td>5556.0</td>\n",
       "      <td>0.169366</td>\n",
       "      <td>0.532918</td>\n",
       "      <td>0.0</td>\n",
       "      <td>0.0</td>\n",
       "      <td>0.0</td>\n",
       "      <td>0.0</td>\n",
       "      <td>8.0</td>\n",
       "    </tr>\n",
       "    <tr>\n",
       "      <th>Fully Paid</th>\n",
       "      <td>32864.0</td>\n",
       "      <td>0.141644</td>\n",
       "      <td>0.482529</td>\n",
       "      <td>0.0</td>\n",
       "      <td>0.0</td>\n",
       "      <td>0.0</td>\n",
       "      <td>0.0</td>\n",
       "      <td>11.0</td>\n",
       "    </tr>\n",
       "  </tbody>\n",
       "</table>\n",
       "</div>"
      ],
      "text/plain": [
       "               count      mean       std  min  25%  50%  75%   max\n",
       "loan_status                                                       \n",
       "Charged Off   5556.0  0.169366  0.532918  0.0  0.0  0.0  0.0   8.0\n",
       "Fully Paid   32864.0  0.141644  0.482529  0.0  0.0  0.0  0.0  11.0"
      ]
     },
     "execution_count": 216,
     "metadata": {},
     "output_type": "execute_result"
    }
   ],
   "source": [
    "loan_fp_choff_df.groupby(by='loan_status').delinq_2yrs.describe()"
   ]
  },
  {
   "cell_type": "markdown",
   "id": "d8c19c1b-8ae4-43e9-a011-8fb72f5d4da8",
   "metadata": {},
   "source": [
    "---"
   ]
  },
  {
   "cell_type": "markdown",
   "id": "33ad51b1-1e78-4239-a753-e62f9d026e63",
   "metadata": {},
   "source": [
    "##### revol_util - _quantitative variable_"
   ]
  },
  {
   "cell_type": "code",
   "execution_count": 229,
   "id": "b0275843-2e1a-4430-b750-ab4ed73144aa",
   "metadata": {},
   "outputs": [
    {
     "data": {
      "text/plain": [
       "revol_util\n",
       "0%        953\n",
       "0.20%      62\n",
       "63%        62\n",
       "40.70%     57\n",
       "31.20%     57\n",
       "         ... \n",
       "77.63%      1\n",
       "25.74%      1\n",
       "0.83%       1\n",
       "47.36%      1\n",
       "7.28%       1\n",
       "Name: count, Length: 1088, dtype: int64"
      ]
     },
     "execution_count": 229,
     "metadata": {},
     "output_type": "execute_result"
    }
   ],
   "source": [
    "# Checking possible values for revol_util variable\n",
    "loan_fp_choff_df['revol_util'].value_counts()"
   ]
  },
  {
   "cell_type": "code",
   "execution_count": 239,
   "id": "665451db-7eac-4ec8-886f-be52ddbd04ed",
   "metadata": {},
   "outputs": [
    {
     "data": {
      "text/plain": [
       "count    38371.000000\n",
       "mean        48.590758\n",
       "std         28.327062\n",
       "min          0.000000\n",
       "25%         25.100000\n",
       "50%         49.000000\n",
       "75%         72.100000\n",
       "max         99.900000\n",
       "Name: revol_util, dtype: float64"
      ]
     },
     "execution_count": 239,
     "metadata": {},
     "output_type": "execute_result"
    }
   ],
   "source": [
    "# Formatting revol_util values for analysing aggregate values groping them based on loan statues\n",
    "loan_fp_choff_df['revol_util'] = loan_fp_choff_df['revol_util'].astype(str)\n",
    "loan_fp_choff_df['revol_util'] = loan_fp_choff_df['revol_util'].apply(lambda x: x.replace('%',''))\n",
    "loan_fp_choff_df['revol_util'] = loan_fp_choff_df['revol_util'].astype('float64')\n",
    "loan_fp_choff_df['revol_util'].describe()"
   ]
  },
  {
   "cell_type": "code",
   "execution_count": 252,
   "id": "c1561f2f-3619-4f9c-8ea0-d199b6c106cc",
   "metadata": {},
   "outputs": [
    {
     "data": {
      "image/png": "[encoded data removed]",
      "text/plain": [
       "<Figure size 640x480 with 1 Axes>"
      ]
     },
     "metadata": {},
     "output_type": "display_data"
    }
   ],
   "source": [
    "# Plotting revol_util for Fully Paid and Charged Off Loans\n",
    "sns.boxplot(x=loan_fp_choff_df['loan_status'],y=loan_fp_choff_df['revol_util'])\n",
    "plt.title('Revolving Line Utilization vs Loan Status')\n",
    "plt.xlabel('Loan Status')\n",
    "plt.ylabel('% Revolving Line Utilization')\n",
    "plt.show()"
   ]
  },
  {
   "cell_type": "code",
   "execution_count": 245,
   "id": "88785c1b-6c3f-430f-a86e-d87ae6576362",
   "metadata": {},
   "outputs": [
    {
     "data": {
      "text/html": [
       "<div>\n",
       "<style scoped>\n",
       "    .dataframe tbody tr th:only-of-type {\n",
       "        vertical-align: middle;\n",
       "    }\n",
       "\n",
       "    .dataframe tbody tr th {\n",
       "        vertical-align: top;\n",
       "    }\n",
       "\n",
       "    .dataframe thead th {\n",
       "        text-align: right;\n",
       "    }\n",
       "</style>\n",
       "<table border=\"1\" class=\"dataframe\">\n",
       "  <thead>\n",
       "    <tr style=\"text-align: right;\">\n",
       "      <th></th>\n",
       "      <th>count</th>\n",
       "      <th>mean</th>\n",
       "      <th>std</th>\n",
       "      <th>min</th>\n",
       "      <th>25%</th>\n",
       "      <th>50%</th>\n",
       "      <th>75%</th>\n",
       "      <th>max</th>\n",
       "    </tr>\n",
       "    <tr>\n",
       "      <th>loan_status</th>\n",
       "      <th></th>\n",
       "      <th></th>\n",
       "      <th></th>\n",
       "      <th></th>\n",
       "      <th></th>\n",
       "      <th></th>\n",
       "      <th></th>\n",
       "      <th></th>\n",
       "    </tr>\n",
       "  </thead>\n",
       "  <tbody>\n",
       "    <tr>\n",
       "      <th>Charged Off</th>\n",
       "      <td>5541.0</td>\n",
       "      <td>55.314349</td>\n",
       "      <td>27.863705</td>\n",
       "      <td>0.0</td>\n",
       "      <td>34.3</td>\n",
       "      <td>58.1</td>\n",
       "      <td>78.6</td>\n",
       "      <td>99.9</td>\n",
       "    </tr>\n",
       "    <tr>\n",
       "      <th>Fully Paid</th>\n",
       "      <td>32830.0</td>\n",
       "      <td>47.455960</td>\n",
       "      <td>28.247525</td>\n",
       "      <td>0.0</td>\n",
       "      <td>23.8</td>\n",
       "      <td>47.5</td>\n",
       "      <td>70.7</td>\n",
       "      <td>99.9</td>\n",
       "    </tr>\n",
       "  </tbody>\n",
       "</table>\n",
       "</div>"
      ],
      "text/plain": [
       "               count       mean        std  min   25%   50%   75%   max\n",
       "loan_status                                                            \n",
       "Charged Off   5541.0  55.314349  27.863705  0.0  34.3  58.1  78.6  99.9\n",
       "Fully Paid   32830.0  47.455960  28.247525  0.0  23.8  47.5  70.7  99.9"
      ]
     },
     "execution_count": 245,
     "metadata": {},
     "output_type": "execute_result"
    }
   ],
   "source": [
    "# Checking aggregate values for different loan statues\n",
    "loan_fp_choff_df.groupby(by='loan_status').revol_util.describe()"
   ]
  }
 ],
 "metadata": {
  "kernelspec": {
   "display_name": "Python 3 (ipykernel)",
   "language": "python",
   "name": "python3"
  },
  "language_info": {
   "codemirror_mode": {
    "name": "ipython",
    "version": 3
   },
   "file_extension": ".py",
   "mimetype": "text/x-python",
   "name": "python",
   "nbconvert_exporter": "python",
   "pygments_lexer": "ipython3",
   "version": "3.11.7"
  }
 },
 "nbformat": 4,
 "nbformat_minor": 5
}
